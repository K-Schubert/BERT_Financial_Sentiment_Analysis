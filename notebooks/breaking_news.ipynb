{
 "cells": [
  {
   "cell_type": "code",
   "execution_count": 3,
   "metadata": {},
   "outputs": [
    {
     "name": "stdout",
     "output_type": "stream",
     "text": [
      "Collecting newsapi\n",
      "  Downloading newsapi-0.1.1-py2.py3-none-any.whl (4.1 kB)\n",
      "Requirement already satisfied: requests in /opt/conda/lib/python3.7/site-packages (from newsapi) (2.24.0)\n",
      "Requirement already satisfied: certifi>=2017.4.17 in /opt/conda/lib/python3.7/site-packages (from requests->newsapi) (2020.6.20)\n",
      "Requirement already satisfied: chardet<4,>=3.0.2 in /opt/conda/lib/python3.7/site-packages (from requests->newsapi) (3.0.4)\n",
      "Requirement already satisfied: urllib3!=1.25.0,!=1.25.1,<1.26,>=1.21.1 in /opt/conda/lib/python3.7/site-packages (from requests->newsapi) (1.24.3)\n",
      "Requirement already satisfied: idna<3,>=2.5 in /opt/conda/lib/python3.7/site-packages (from requests->newsapi) (2.10)\n",
      "Installing collected packages: newsapi\n",
      "Successfully installed newsapi-0.1.1\n"
     ]
    }
   ],
   "source": [
    "! pip install newsapi"
   ]
  },
  {
   "cell_type": "code",
   "execution_count": 22,
   "metadata": {},
   "outputs": [
    {
     "name": "stdout",
     "output_type": "stream",
     "text": [
      "1 Trump signs executive actions on economic impact of coronavirus\n",
      "2 8/9: O'Brien, Lucas, Lamont, Gottlieb, Evans, Salvanto\n",
      "3 The overnight coronavirus expert\n",
      "4 CNN anchor to Trump supporter: What you're saying is unscientific - CNN Video\n",
      "5 Vic Premier Daniel Andrews says drop in virus cases ‘promising’, warns of more deaths\n",
      "6 Coronavirus update: WHO chief calls for tenfold increase in funding for COVID-19 treatments, Red Cross goes to work in North Korea\n",
      "7 Trump says Schumer, Pelosi 'want to meet to make a deal' on coronavirus relief\n",
      "8 Coronavirus live updates: 97,000 kids tested positive the last two weeks of July; college football faces decision time on fall season\n",
      "9 Coronavirus Australia: Depressing picture of country’s future\n",
      "10 How Texas went from a coronavirus slow burn to an explosive disaster\n",
      "11 Coronavirus Live Updates: Nearly 100,000 U.S. Children Tested Positive For COVID-19 In 2 Weeks\n",
      "12 NI records 76 cases of Covid-19, one death\n",
      "13 Coronavirus live updates: 97,000 kids tested positive the last two weeks of July; college football faces decision time on fall season\n",
      "14 Iran Shutters Newspaper After Expert Questions Official Coronavirus Numbers\n",
      "15 Why antibodies may not be the key to beating coronavirus\n",
      "16 Wildlife deaths from coronavirus disinfectant use alarm scientists\n",
      "17 Covid-19 travel restrictions devastate Africa's tourism\n",
      "18 No 'magic number' to decide when restrictions ease, as Victoria records 322 new cases and 19 deaths\n",
      "19 Scaramucci: Trump has politicized the news around the coronavirus pandemic\n",
      "20 Melbourne's second coronavirus shutdown sees businesses closing for good\n"
     ]
    }
   ],
   "source": [
    "import requests\n",
    "import newsapi_credentials\n",
    "\n",
    "params = {\n",
    "    'q': 'corona virus',\n",
    "    #'source': 'bbc-news',\n",
    "    'sortBy': 'top',\n",
    "    'language': 'en',\n",
    "    #'category': 'business',\n",
    "    #'country': 'us',\n",
    "    #'apiKey': API_KEY,\n",
    "}\n",
    "\n",
    "headers = {\n",
    "    'X-Api-Key': API_KEY,  # KEY in header to hide it from url\n",
    "}\n",
    "\n",
    "url = 'https://newsapi.org/v2/top-headlines'\n",
    "\n",
    "response = requests.get(url, params=params, headers=headers)\n",
    "data = response.json()\n",
    "\n",
    "articles = data[\"articles\"] \n",
    "results = [arr[\"title\"] for arr in articles] \n",
    "\n",
    "for i, arr in enumerate(results, 1): \n",
    "    print(i, arr)"
   ]
  },
  {
   "cell_type": "code",
   "execution_count": 23,
   "metadata": {},
   "outputs": [],
   "source": [
    "import transformers\n",
    "import torch\n",
    "from torch import nn\n",
    "from transformers import BertModel"
   ]
  },
  {
   "cell_type": "code",
   "execution_count": 24,
   "metadata": {},
   "outputs": [],
   "source": [
    "class SentimentClassifier(nn.Module):\n",
    "    \n",
    "    def __init__(self, n_classes):\n",
    "        super(SentimentClassifier, self).__init__()\n",
    "        self.bert = BertModel.from_pretrained(PRE_TRAINED_MODEL_NAME)\n",
    "        self.drop = nn.Dropout(p=0.3)\n",
    "        self.out = nn.Linear(self.bert.config.hidden_size, n_classes)\n",
    "        \n",
    "    def forward(self, input_ids, attention_mask):\n",
    "        _, pooled_output = self.bert(\n",
    "            input_ids=input_ids,\n",
    "            attention_mask=attention_mask\n",
    "        )\n",
    "        output = self.drop(pooled_output)\n",
    "        return self.out(output)"
   ]
  },
  {
   "cell_type": "code",
   "execution_count": 25,
   "metadata": {},
   "outputs": [],
   "source": [
    "MAX_LEN=160\n",
    "PRE_TRAINED_MODEL_NAME = 'bert-base-uncased'\n",
    "class_names = ['negative', 'neutral', 'positive']\n",
    "device='cuda'"
   ]
  },
  {
   "cell_type": "code",
   "execution_count": 26,
   "metadata": {},
   "outputs": [],
   "source": [
    "model = SentimentClassifier(len(class_names))\n",
    "model.load_state_dict(torch.load('model_1_2-Copy1.pth'))\n",
    "model = model.to(device)"
   ]
  },
  {
   "cell_type": "code",
   "execution_count": 27,
   "metadata": {},
   "outputs": [],
   "source": [
    "tokenizer = transformers.BertTokenizer.from_pretrained(PRE_TRAINED_MODEL_NAME)"
   ]
  },
  {
   "cell_type": "code",
   "execution_count": 28,
   "metadata": {},
   "outputs": [
    {
     "name": "stdout",
     "output_type": "stream",
     "text": [
      "Review text: Trump signs executive actions on economic impact of coronavirus\n",
      "Sentiment : negative\n",
      "----------\n",
      "Review text: 8/9: O'Brien, Lucas, Lamont, Gottlieb, Evans, Salvanto\n",
      "Sentiment : positive\n",
      "----------\n",
      "Review text: The overnight coronavirus expert\n",
      "Sentiment : positive\n",
      "----------\n",
      "Review text: CNN anchor to Trump supporter: What you're saying is unscientific - CNN Video\n",
      "Sentiment : negative\n",
      "----------\n",
      "Review text: Vic Premier Daniel Andrews says drop in virus cases ‘promising’, warns of more deaths\n",
      "Sentiment : neutral\n",
      "----------\n",
      "Review text: Coronavirus update: WHO chief calls for tenfold increase in funding for COVID-19 treatments, Red Cross goes to work in North Korea\n",
      "Sentiment : negative\n",
      "----------\n",
      "Review text: Trump says Schumer, Pelosi 'want to meet to make a deal' on coronavirus relief\n",
      "Sentiment : neutral\n",
      "----------\n",
      "Review text: Coronavirus live updates: 97,000 kids tested positive the last two weeks of July; college football faces decision time on fall season\n",
      "Sentiment : neutral\n",
      "----------\n",
      "Review text: Coronavirus Australia: Depressing picture of country’s future\n",
      "Sentiment : negative\n",
      "----------\n",
      "Review text: How Texas went from a coronavirus slow burn to an explosive disaster\n",
      "Sentiment : negative\n",
      "----------\n"
     ]
    }
   ],
   "source": [
    "for text in results[:10]:\n",
    "\n",
    "    encoded_review = tokenizer.encode_plus(\n",
    "        text,\n",
    "        max_length=MAX_LEN,\n",
    "        add_special_tokens=True,\n",
    "        return_token_type_ids=False,\n",
    "        pad_to_max_length=True,\n",
    "        return_attention_mask=True,\n",
    "        return_tensors='pt'\n",
    "    )\n",
    "    \n",
    "    input_ids = encoded_review['input_ids'].to(device)\n",
    "    attention_mask = encoded_review['attention_mask'].to(device)\n",
    "    \n",
    "    output = model(input_ids, attention_mask)\n",
    "    _, prediction = torch.max(output, dim=1)\n",
    "    \n",
    "    print(f'Review text: {text}')\n",
    "    print(f'Sentiment : {class_names[prediction]}')\n",
    "    print('-'*10)"
   ]
  },
  {
   "cell_type": "code",
   "execution_count": null,
   "metadata": {},
   "outputs": [],
   "source": []
  }
 ],
 "metadata": {
  "environment": {
   "name": "pytorch-gpu.1-4.m50",
   "type": "gcloud",
   "uri": "gcr.io/deeplearning-platform-release/pytorch-gpu.1-4:m50"
  },
  "kernelspec": {
   "display_name": "Python 3",
   "language": "python",
   "name": "python3"
  },
  "language_info": {
   "codemirror_mode": {
    "name": "ipython",
    "version": 3
   },
   "file_extension": ".py",
   "mimetype": "text/x-python",
   "name": "python",
   "nbconvert_exporter": "python",
   "pygments_lexer": "ipython3",
   "version": "3.7.6"
  }
 },
 "nbformat": 4,
 "nbformat_minor": 4
}
