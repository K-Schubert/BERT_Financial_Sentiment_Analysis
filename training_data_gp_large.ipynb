{
 "cells": [
  {
   "cell_type": "code",
   "execution_count": null,
   "metadata": {},
   "outputs": [],
   "source": [
    "!pip install -qq google-play-scraper"
   ]
  },
  {
   "cell_type": "code",
   "execution_count": 1,
   "metadata": {},
   "outputs": [],
   "source": [
    "import json\n",
    "import pandas as pd\n",
    "from tqdm import tqdm\n",
    "\n",
    "import seaborn as sns\n",
    "import matplotlib.pyplot as plt\n",
    "\n",
    "from pygments import highlight\n",
    "from pygments.lexers import JsonLexer\n",
    "from pygments.formatters import TerminalFormatter\n",
    "\n",
    "from google_play_scraper import Sort, reviews, app\n",
    "\n",
    "%matplotlib inline\n",
    "%config InlineBackend.figure_format='retina'\n",
    "\n",
    "sns.set(style='whitegrid', palette='muted', font_scale=1.2)"
   ]
  },
  {
   "cell_type": "code",
   "execution_count": 2,
   "metadata": {},
   "outputs": [],
   "source": [
    "import urllib.request, urllib.error, urllib.parse\n",
    "from bs4 import BeautifulSoup"
   ]
  },
  {
   "cell_type": "code",
   "execution_count": 3,
   "metadata": {},
   "outputs": [],
   "source": [
    "categories = [\"APPLICATION\", \"GAME\", \"ART_AND_DESIGN\", \"AUTO_AND_VEHICLES\", \"BEAUTY\", \"BOOKS_AND_REFERENCE\",\n",
    "              \"BUSINESS\", \"COMICS\", \"COMMUNICATION\", \"DATING\", \"EDUCATION\", \"ENTERTAINMENT\", \"EVENTS\", \"FINANCE\",\n",
    "              \"FOOD_AND_DRINK\", \"HEALTH_AND_FITNESS\", \"HOUSE_AND_HOME\", \"LIFESTYLE\", \"MAPS_AND_NAVIGATION\", \"MEDICAL\",\n",
    "              \"MUSIC_AND_AUDIO\", \"NEWS_AND_MAGAZINES\", \"PARENTING\", \"PERSONALIZATION\", \"PHOTOGRAPHY\", \"PRODUCTIVITY\",\n",
    "              \"SHOPPING\", \"SOCIAL\", \"SPORTS\", \"TOOLS\", \"TRAVEL_AND_LOCAL\", \"VIDEO_PLAYERS\", \"WEATHER\"]\n",
    "\n",
    "categories = [string + '?hl=en' for string in categories]"
   ]
  },
  {
   "cell_type": "code",
   "execution_count": 4,
   "metadata": {},
   "outputs": [
    {
     "name": "stdout",
     "output_type": "stream",
     "text": [
      "APPLICATION?hl=en\n",
      "GAME?hl=en\n",
      "ART_AND_DESIGN?hl=en\n",
      "AUTO_AND_VEHICLES?hl=en\n",
      "BEAUTY?hl=en\n",
      "BOOKS_AND_REFERENCE?hl=en\n",
      "BUSINESS?hl=en\n",
      "COMICS?hl=en\n",
      "COMMUNICATION?hl=en\n",
      "DATING?hl=en\n"
     ]
    }
   ],
   "source": [
    "app_packages = []\n",
    "\n",
    "url = \"https://play.google.com/store/apps/category/\"\n",
    "\n",
    "for cat in categories[:10]:\n",
    "    print(cat)\n",
    "    html = urllib.request.urlopen(url+cat).read()\n",
    "    soup = BeautifulSoup(html,'html.parser')\n",
    "    tags = soup('a')\n",
    "    ids = list()\n",
    "    for tag in tags:\n",
    "        x = tag.get('href', None)\n",
    "        if x.find(\"/store/apps/details?id=\") != -1:\n",
    "           if not(x[23:] in ids):\n",
    "                ids.append(x[23:])\n",
    "    app_packages.append(ids)"
   ]
  },
  {
   "cell_type": "code",
   "execution_count": 5,
   "metadata": {},
   "outputs": [],
   "source": [
    "app_packages = [item for sublist in app_packages for item in sublist]"
   ]
  },
  {
   "cell_type": "code",
   "execution_count": 6,
   "metadata": {},
   "outputs": [
    {
     "data": {
      "text/plain": [
       "496"
      ]
     },
     "execution_count": 6,
     "metadata": {},
     "output_type": "execute_result"
    }
   ],
   "source": [
    "len(app_packages)"
   ]
  },
  {
   "cell_type": "code",
   "execution_count": 8,
   "metadata": {},
   "outputs": [
    {
     "name": "stderr",
     "output_type": "stream",
     "text": [
      "100%|██████████| 496/496 [01:18<00:00,  6.28it/s]\n"
     ]
    }
   ],
   "source": [
    "app_infos = []\n",
    "\n",
    "for ap in tqdm(app_packages):\n",
    "    info = app(ap, lang='en', country='us')\n",
    "    del info['comments']\n",
    "    app_infos.append(info)"
   ]
  },
  {
   "cell_type": "code",
   "execution_count": 13,
   "metadata": {},
   "outputs": [],
   "source": [
    "def print_json(json_object):\n",
    "    json_str = json.dumps(json_object, indent=2, sort_keys=True,\n",
    "                         default=str)\n",
    "    print(highlight(json_str, JsonLexer(), TerminalFormatter()))"
   ]
  },
  {
   "cell_type": "code",
   "execution_count": null,
   "metadata": {},
   "outputs": [],
   "source": [
    "print_json(app_infos[0])"
   ]
  },
  {
   "cell_type": "code",
   "execution_count": null,
   "metadata": {},
   "outputs": [],
   "source": [
    "def format_title(title):\n",
    "    sep_index = title.find(':') if title.find(':') != -1 else title.find('-')\n",
    "    if sep_index != -1:\n",
    "        title = title[:sep_index]\n",
    "    return title[:10]\n",
    "        \n",
    "\n",
    "fig, axs = plt.subplots(2, len(app_infos)//2, figsize=(10,3))\n",
    "for i, ax in enumerate(axs.flat):\n",
    "    ai = app_infos[i]\n",
    "    img = plt.imread(ai['icon'])\n",
    "    ax.imshow(img)\n",
    "    ax.set_title(format_title(ai['title']))\n",
    "    ax.axis('off')"
   ]
  },
  {
   "cell_type": "code",
   "execution_count": 9,
   "metadata": {},
   "outputs": [
    {
     "data": {
      "text/html": [
       "<div>\n",
       "<style scoped>\n",
       "    .dataframe tbody tr th:only-of-type {\n",
       "        vertical-align: middle;\n",
       "    }\n",
       "\n",
       "    .dataframe tbody tr th {\n",
       "        vertical-align: top;\n",
       "    }\n",
       "\n",
       "    .dataframe thead th {\n",
       "        text-align: right;\n",
       "    }\n",
       "</style>\n",
       "<table border=\"1\" class=\"dataframe\">\n",
       "  <thead>\n",
       "    <tr style=\"text-align: right;\">\n",
       "      <th></th>\n",
       "      <th>title</th>\n",
       "      <th>description</th>\n",
       "      <th>descriptionHTML</th>\n",
       "      <th>summary</th>\n",
       "      <th>summaryHTML</th>\n",
       "      <th>installs</th>\n",
       "      <th>minInstalls</th>\n",
       "      <th>score</th>\n",
       "      <th>ratings</th>\n",
       "      <th>reviews</th>\n",
       "      <th>...</th>\n",
       "      <th>contentRatingDescription</th>\n",
       "      <th>adSupported</th>\n",
       "      <th>containsAds</th>\n",
       "      <th>released</th>\n",
       "      <th>updated</th>\n",
       "      <th>version</th>\n",
       "      <th>recentChanges</th>\n",
       "      <th>recentChangesHTML</th>\n",
       "      <th>appId</th>\n",
       "      <th>url</th>\n",
       "    </tr>\n",
       "  </thead>\n",
       "  <tbody>\n",
       "    <tr>\n",
       "      <th>0</th>\n",
       "      <td>Facebook</td>\n",
       "      <td>Keeping up with friends is faster and easier t...</td>\n",
       "      <td>Keeping up with friends is faster and easier t...</td>\n",
       "      <td>Find friends, watch live videos, play games &amp; ...</td>\n",
       "      <td>Find friends, watch live videos, play games &amp;a...</td>\n",
       "      <td>5,000,000,000+</td>\n",
       "      <td>5000000000</td>\n",
       "      <td>4.191038</td>\n",
       "      <td>101984168.0</td>\n",
       "      <td>29578125.0</td>\n",
       "      <td>...</td>\n",
       "      <td>None</td>\n",
       "      <td>True</td>\n",
       "      <td>True</td>\n",
       "      <td>None</td>\n",
       "      <td>1596500416</td>\n",
       "      <td>281.0.0.36.124</td>\n",
       "      <td>None</td>\n",
       "      <td>None</td>\n",
       "      <td>com.facebook.katana</td>\n",
       "      <td>https://play.google.com/store/apps/details?id=...</td>\n",
       "    </tr>\n",
       "    <tr>\n",
       "      <th>1</th>\n",
       "      <td>WhatsApp Messenger</td>\n",
       "      <td>WhatsApp from Facebook\\r\\n\\r\\nWhatsApp Messeng...</td>\n",
       "      <td>WhatsApp from Facebook&lt;br&gt;&lt;br&gt;WhatsApp Messeng...</td>\n",
       "      <td>Simple. Personal. Secure.</td>\n",
       "      <td>Simple. Personal. Secure.</td>\n",
       "      <td>5,000,000,000+</td>\n",
       "      <td>5000000000</td>\n",
       "      <td>4.306773</td>\n",
       "      <td>117936399.0</td>\n",
       "      <td>34487021.0</td>\n",
       "      <td>...</td>\n",
       "      <td>None</td>\n",
       "      <td>None</td>\n",
       "      <td>None</td>\n",
       "      <td>Oct 18, 2010</td>\n",
       "      <td>1596495381</td>\n",
       "      <td>2.20.196.16</td>\n",
       "      <td>* WhatsApp now supports animated stickers. You...</td>\n",
       "      <td>* WhatsApp now supports animated stickers. You...</td>\n",
       "      <td>com.whatsapp</td>\n",
       "      <td>https://play.google.com/store/apps/details?id=...</td>\n",
       "    </tr>\n",
       "  </tbody>\n",
       "</table>\n",
       "<p>2 rows × 48 columns</p>\n",
       "</div>"
      ],
      "text/plain": [
       "                title                                        description  \\\n",
       "0            Facebook  Keeping up with friends is faster and easier t...   \n",
       "1  WhatsApp Messenger  WhatsApp from Facebook\\r\\n\\r\\nWhatsApp Messeng...   \n",
       "\n",
       "                                     descriptionHTML  \\\n",
       "0  Keeping up with friends is faster and easier t...   \n",
       "1  WhatsApp from Facebook<br><br>WhatsApp Messeng...   \n",
       "\n",
       "                                             summary  \\\n",
       "0  Find friends, watch live videos, play games & ...   \n",
       "1                          Simple. Personal. Secure.   \n",
       "\n",
       "                                         summaryHTML        installs  \\\n",
       "0  Find friends, watch live videos, play games &a...  5,000,000,000+   \n",
       "1                          Simple. Personal. Secure.  5,000,000,000+   \n",
       "\n",
       "   minInstalls     score      ratings     reviews  ...  \\\n",
       "0   5000000000  4.191038  101984168.0  29578125.0  ...   \n",
       "1   5000000000  4.306773  117936399.0  34487021.0  ...   \n",
       "\n",
       "  contentRatingDescription  adSupported  containsAds      released  \\\n",
       "0                     None         True         True          None   \n",
       "1                     None         None         None  Oct 18, 2010   \n",
       "\n",
       "      updated         version  \\\n",
       "0  1596500416  281.0.0.36.124   \n",
       "1  1596495381     2.20.196.16   \n",
       "\n",
       "                                       recentChanges  \\\n",
       "0                                               None   \n",
       "1  * WhatsApp now supports animated stickers. You...   \n",
       "\n",
       "                                   recentChangesHTML                appId  \\\n",
       "0                                               None  com.facebook.katana   \n",
       "1  * WhatsApp now supports animated stickers. You...         com.whatsapp   \n",
       "\n",
       "                                                 url  \n",
       "0  https://play.google.com/store/apps/details?id=...  \n",
       "1  https://play.google.com/store/apps/details?id=...  \n",
       "\n",
       "[2 rows x 48 columns]"
      ]
     },
     "execution_count": 9,
     "metadata": {},
     "output_type": "execute_result"
    }
   ],
   "source": [
    "app_infos_df = pd.DataFrame(app_infos)\n",
    "app_infos_df.head(n=2)"
   ]
  },
  {
   "cell_type": "code",
   "execution_count": 10,
   "metadata": {},
   "outputs": [],
   "source": [
    "app_infos_df.to_csv('apps.csv', index=None, header=True)"
   ]
  },
  {
   "cell_type": "markdown",
   "metadata": {},
   "source": [
    "# Get App Reviews"
   ]
  },
  {
   "cell_type": "code",
   "execution_count": 11,
   "metadata": {},
   "outputs": [
    {
     "name": "stderr",
     "output_type": "stream",
     "text": [
      "100%|██████████| 496/496 [31:33<00:00,  3.82s/it]\n"
     ]
    }
   ],
   "source": [
    "app_reviews = []\n",
    "\n",
    "for ap in tqdm(app_packages):\n",
    "    for score in range(1,6):\n",
    "        for sort_order in [Sort.MOST_RELEVANT, Sort.NEWEST]:\n",
    "            rvs = reviews(\n",
    "                ap,\n",
    "                lang='en',\n",
    "                country='us',\n",
    "                sort=sort_order,\n",
    "                # scores of 1/2 are negative, scores of 3 are neutral\n",
    "                # and scores of 4/5 are positive => need to balance class\n",
    "                count=200 if score==3 else 100,\n",
    "                filter_score_with=score\n",
    "            )[0]\n",
    "        \n",
    "            for r in rvs:\n",
    "                r['sortOrder'] = 'most_relevant' if sort_order == Sort.MOST_RELEVANT else 'newest'\n",
    "                r['appId'] = ap\n",
    "\n",
    "            app_reviews.extend(rvs)\n",
    "        "
   ]
  },
  {
   "cell_type": "code",
   "execution_count": 14,
   "metadata": {},
   "outputs": [
    {
     "name": "stdout",
     "output_type": "stream",
     "text": [
      "{\n",
      "  \u001b[94m\"appId\"\u001b[39;49;00m: \u001b[33m\"com.facebook.katana\"\u001b[39;49;00m,\n",
      "  \u001b[94m\"at\"\u001b[39;49;00m: \u001b[33m\"2020-07-30 16:21:12\"\u001b[39;49;00m,\n",
      "  \u001b[94m\"content\"\u001b[39;49;00m: \u001b[33m\"I wish the layout would return to the original layout 10 years ago as well. I really dislike the fact that I cannot see all of my friends but only who the algorithm chooses. You should see ALL your friends in the news feed. And I also dislike the fact that Facebook has strayed so far from \\\"social connection\\\" to rag magazine information, copy and paste of anything they find, an outright lies. I didn't join Facebook to read the newspaper or watch the news, or read lies shared.\"\u001b[39;49;00m,\n",
      "  \u001b[94m\"repliedAt\"\u001b[39;49;00m: \u001b[34mnull\u001b[39;49;00m,\n",
      "  \u001b[94m\"replyContent\"\u001b[39;49;00m: \u001b[34mnull\u001b[39;49;00m,\n",
      "  \u001b[94m\"reviewCreatedVersion\"\u001b[39;49;00m: \u001b[33m\"280.0.0.48.122\"\u001b[39;49;00m,\n",
      "  \u001b[94m\"reviewId\"\u001b[39;49;00m: \u001b[33m\"gp:AOqpTOH3t9JKv4GwMvVB6oNsyTqHwZkwpxnOWFn6-MzFaqABjOEc6eNfFfyw5wzyUmalju5e9IIbl9jkGC5Ghg\"\u001b[39;49;00m,\n",
      "  \u001b[94m\"score\"\u001b[39;49;00m: \u001b[34m1\u001b[39;49;00m,\n",
      "  \u001b[94m\"sortOrder\"\u001b[39;49;00m: \u001b[33m\"most_relevant\"\u001b[39;49;00m,\n",
      "  \u001b[94m\"thumbsUpCount\"\u001b[39;49;00m: \u001b[34m2650\u001b[39;49;00m,\n",
      "  \u001b[94m\"userImage\"\u001b[39;49;00m: \u001b[33m\"https://lh3.googleusercontent.com/a-/AOh14GhNsmsF-E0WYbRS4898MPLZXTeVPYhIzZRkfdC4Hqs\"\u001b[39;49;00m,\n",
      "  \u001b[94m\"userName\"\u001b[39;49;00m: \u001b[33m\"Denel SantaLucia\"\u001b[39;49;00m\n",
      "}\n",
      "\n"
     ]
    }
   ],
   "source": [
    "print_json(app_reviews[0])"
   ]
  },
  {
   "cell_type": "code",
   "execution_count": 15,
   "metadata": {},
   "outputs": [
    {
     "data": {
      "text/plain": [
       "(448748, 12)"
      ]
     },
     "execution_count": 15,
     "metadata": {},
     "output_type": "execute_result"
    }
   ],
   "source": [
    "app_reviews_df = pd.DataFrame(app_reviews)\n",
    "app_reviews_df.shape"
   ]
  },
  {
   "cell_type": "code",
   "execution_count": 16,
   "metadata": {},
   "outputs": [
    {
     "data": {
      "text/html": [
       "<div>\n",
       "<style scoped>\n",
       "    .dataframe tbody tr th:only-of-type {\n",
       "        vertical-align: middle;\n",
       "    }\n",
       "\n",
       "    .dataframe tbody tr th {\n",
       "        vertical-align: top;\n",
       "    }\n",
       "\n",
       "    .dataframe thead th {\n",
       "        text-align: right;\n",
       "    }\n",
       "</style>\n",
       "<table border=\"1\" class=\"dataframe\">\n",
       "  <thead>\n",
       "    <tr style=\"text-align: right;\">\n",
       "      <th></th>\n",
       "      <th>reviewId</th>\n",
       "      <th>userName</th>\n",
       "      <th>userImage</th>\n",
       "      <th>content</th>\n",
       "      <th>score</th>\n",
       "      <th>thumbsUpCount</th>\n",
       "      <th>reviewCreatedVersion</th>\n",
       "      <th>at</th>\n",
       "      <th>replyContent</th>\n",
       "      <th>repliedAt</th>\n",
       "      <th>sortOrder</th>\n",
       "      <th>appId</th>\n",
       "    </tr>\n",
       "  </thead>\n",
       "  <tbody>\n",
       "    <tr>\n",
       "      <th>0</th>\n",
       "      <td>gp:AOqpTOH3t9JKv4GwMvVB6oNsyTqHwZkwpxnOWFn6-Mz...</td>\n",
       "      <td>Denel SantaLucia</td>\n",
       "      <td>https://lh3.googleusercontent.com/a-/AOh14GhNs...</td>\n",
       "      <td>I wish the layout would return to the original...</td>\n",
       "      <td>1</td>\n",
       "      <td>2650</td>\n",
       "      <td>280.0.0.48.122</td>\n",
       "      <td>2020-07-30 16:21:12</td>\n",
       "      <td>None</td>\n",
       "      <td>NaT</td>\n",
       "      <td>most_relevant</td>\n",
       "      <td>com.facebook.katana</td>\n",
       "    </tr>\n",
       "    <tr>\n",
       "      <th>1</th>\n",
       "      <td>gp:AOqpTOFsi-H0rtSiiiOKk05JRCLlKjgOsrao1jukcm_...</td>\n",
       "      <td>MySelf1</td>\n",
       "      <td>https://lh3.googleusercontent.com/-K3tM-QB4xzU...</td>\n",
       "      <td>I don't even know what to write, Facebook, whi...</td>\n",
       "      <td>1</td>\n",
       "      <td>2280</td>\n",
       "      <td>281.0.0.36.124</td>\n",
       "      <td>2020-08-04 07:54:57</td>\n",
       "      <td>None</td>\n",
       "      <td>NaT</td>\n",
       "      <td>most_relevant</td>\n",
       "      <td>com.facebook.katana</td>\n",
       "    </tr>\n",
       "  </tbody>\n",
       "</table>\n",
       "</div>"
      ],
      "text/plain": [
       "                                            reviewId          userName  \\\n",
       "0  gp:AOqpTOH3t9JKv4GwMvVB6oNsyTqHwZkwpxnOWFn6-Mz...  Denel SantaLucia   \n",
       "1  gp:AOqpTOFsi-H0rtSiiiOKk05JRCLlKjgOsrao1jukcm_...           MySelf1   \n",
       "\n",
       "                                           userImage  \\\n",
       "0  https://lh3.googleusercontent.com/a-/AOh14GhNs...   \n",
       "1  https://lh3.googleusercontent.com/-K3tM-QB4xzU...   \n",
       "\n",
       "                                             content  score  thumbsUpCount  \\\n",
       "0  I wish the layout would return to the original...      1           2650   \n",
       "1  I don't even know what to write, Facebook, whi...      1           2280   \n",
       "\n",
       "  reviewCreatedVersion                  at replyContent repliedAt  \\\n",
       "0       280.0.0.48.122 2020-07-30 16:21:12         None       NaT   \n",
       "1       281.0.0.36.124 2020-08-04 07:54:57         None       NaT   \n",
       "\n",
       "       sortOrder                appId  \n",
       "0  most_relevant  com.facebook.katana  \n",
       "1  most_relevant  com.facebook.katana  "
      ]
     },
     "execution_count": 16,
     "metadata": {},
     "output_type": "execute_result"
    }
   ],
   "source": [
    "app_reviews_df.head(n=2)"
   ]
  },
  {
   "cell_type": "code",
   "execution_count": 17,
   "metadata": {},
   "outputs": [],
   "source": [
    "app_reviews_df.to_csv(\"reviews.csv\", index=None, header=True)"
   ]
  },
  {
   "cell_type": "code",
   "execution_count": null,
   "metadata": {},
   "outputs": [],
   "source": []
  }
 ],
 "metadata": {
  "environment": {
   "name": "pytorch-gpu.1-4.m50",
   "type": "gcloud",
   "uri": "gcr.io/deeplearning-platform-release/pytorch-gpu.1-4:m50"
  },
  "kernelspec": {
   "display_name": "Python 3",
   "language": "python",
   "name": "python3"
  },
  "language_info": {
   "codemirror_mode": {
    "name": "ipython",
    "version": 3
   },
   "file_extension": ".py",
   "mimetype": "text/x-python",
   "name": "python",
   "nbconvert_exporter": "python",
   "pygments_lexer": "ipython3",
   "version": "3.7.6"
  }
 },
 "nbformat": 4,
 "nbformat_minor": 4
}
