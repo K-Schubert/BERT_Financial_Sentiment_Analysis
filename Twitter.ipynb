{
 "cells": [
  {
   "cell_type": "code",
   "execution_count": null,
   "metadata": {},
   "outputs": [],
   "source": [
    "! pip install tweepy\n",
    "! pip install textblob"
   ]
  },
  {
   "cell_type": "markdown",
   "metadata": {},
   "source": [
    "# Collect Tweets"
   ]
  },
  {
   "cell_type": "code",
   "execution_count": 308,
   "metadata": {},
   "outputs": [],
   "source": [
    "import tweepy\n",
    "import twitter_credentials\n",
    "import pandas as pd\n",
    "import numpy as np\n",
    "import re\n",
    "from textblob import TextBlob\n",
    "from datetime import datetime, timedelta"
   ]
  },
  {
   "cell_type": "code",
   "execution_count": 2,
   "metadata": {},
   "outputs": [],
   "source": [
    "class TweetCollector():\n",
    "\t\"\"\"\n",
    "\tClass for collecting and processing tweets.\n",
    "\t\"\"\"\n",
    "\n",
    "\tdef clean_tweet(self, tweet):\n",
    "\t\treturn ' '.join(re.sub(\"(@[A-Za-z0-9]+)|([^0-9A-Za-z \\t])|(\\w+:\\/\\/\\S+)\", \" \", tweet).split())\n",
    "\n",
    "\tdef collect_tweets(self, hashtag, max_tweets):\n",
    "\t\ttweets = []\n",
    "\t\tfor tweet in tweepy.Cursor(api.search, q=hashtag, lang='en').items(MAX_TWEETS):\n",
    "\t\t\ttweets.append(tweet)\n",
    "\n",
    "\t\treturn tweets\n",
    "\n",
    "\tdef tweets_to_data_frame(self, tweets):\n",
    "\t\tdf = pd.DataFrame(data=[tweet.text for tweet in tweets], columns=['tweets'])\n",
    "\n",
    "\t\tdf['id'] = np.array([tweet.id for tweet in tweets])\n",
    "\t\tdf['len'] = np.array([len(tweet.text) for tweet in tweets])\n",
    "\t\tdf['date'] = np.array([tweet.created_at for tweet in tweets])\n",
    "\t\tdf['source'] = np.array([tweet.source for tweet in tweets])\n",
    "\t\tdf['likes'] = np.array([tweet.favorite_count for tweet in tweets])\n",
    "\t\tdf['retweets'] = np.array([tweet.retweet_count for tweet in tweets])\n",
    "\n",
    "\t\treturn df\n",
    "\n",
    "\tdef analyze_sentiment(self, tweet):\n",
    "\t\tanalysis = TextBlob(tweet)\n",
    "\t\t\n",
    "\t\t'''\n",
    "\t\tif analysis.sentiment.polarity > 0:\n",
    "\t\t\treturn 1\n",
    "\t\telif analysis.sentiment.polarity == 0:\n",
    "\t\t\treturn 0\n",
    "\t\telse:\n",
    "\t\t\treturn -1\n",
    "\t\t'''\n",
    "\n",
    "\t\treturn analysis.sentiment.polarity\n",
    "        "
   ]
  },
  {
   "cell_type": "code",
   "execution_count": 109,
   "metadata": {},
   "outputs": [],
   "source": [
    "MAX_TWEETS = 10000\n",
    "since = '2020-01-01'\n",
    "until = '2020-08-08'\n",
    "\n",
    "auth = tweepy.OAuthHandler(twitter_credentials.CONSUMER_KEY, twitter_credentials.CONSUMER_SECRET)\n",
    "api = tweepy.API(auth)\n",
    "\n",
    "tweet_collector = TweetCollector()\n",
    "\n",
    "tweets = tweet_collector.collect_tweets(hashtag=\"#AAPL since:{} until:{}\".format(since, until), max_tweets=MAX_TWEETS)\n",
    "tweets_df = tweet_collector.tweets_to_data_frame(tweets)\n",
    "tweets_df['tweets'] = pd.DataFrame([tweet_collector.clean_tweet(tweet) for tweet in tweets_df['tweets']])\n",
    "tweets_df = tweets_df.drop_duplicates(subset=['tweets'])\n",
    "tweets_df['sentiment'] = np.array([tweet_collector.analyze_sentiment(tweet) for tweet in tweets_df['tweets']])\n",
    "\n",
    "#[print(tweet, sent) for tweet, sent in zip(tweets_df['tweets'][:30], tweets_df['sentiment'][:30])]"
   ]
  },
  {
   "cell_type": "code",
   "execution_count": 110,
   "metadata": {},
   "outputs": [
    {
     "name": "stdout",
     "output_type": "stream",
     "text": [
      "daily sentiment score for 2020-01-01 to 2020-08-08:  148.0860377215377\n"
     ]
    }
   ],
   "source": [
    "print('daily sentiment score for {} to {}: '.format(since, until),  tweets_df['sentiment'].sum())"
   ]
  },
  {
   "cell_type": "markdown",
   "metadata": {},
   "source": [
    "# Remove Spam"
   ]
  },
  {
   "cell_type": "markdown",
   "metadata": {},
   "source": [
    "Some tweets may be spam, so we try to remove the sources that generally don't contain quality information about sentiment. "
   ]
  },
  {
   "cell_type": "code",
   "execution_count": 5,
   "metadata": {},
   "outputs": [],
   "source": [
    "import matplotlib.pyplot as plt"
   ]
  },
  {
   "cell_type": "code",
   "execution_count": 111,
   "metadata": {},
   "outputs": [
    {
     "name": "stdout",
     "output_type": "stream",
     "text": [
      "<class 'pandas.core.frame.DataFrame'>\n",
      "Int64Index: 1143 entries, 0 to 1312\n",
      "Data columns (total 8 columns):\n",
      " #   Column     Non-Null Count  Dtype         \n",
      "---  ------     --------------  -----         \n",
      " 0   tweets     1143 non-null   object        \n",
      " 1   id         1143 non-null   int64         \n",
      " 2   len        1143 non-null   int64         \n",
      " 3   date       1143 non-null   datetime64[ns]\n",
      " 4   source     1143 non-null   object        \n",
      " 5   likes      1143 non-null   int64         \n",
      " 6   retweets   1143 non-null   int64         \n",
      " 7   sentiment  1143 non-null   float64       \n",
      "dtypes: datetime64[ns](1), float64(1), int64(4), object(2)\n",
      "memory usage: 80.4+ KB\n"
     ]
    }
   ],
   "source": [
    "tweets_df.info()"
   ]
  },
  {
   "cell_type": "code",
   "execution_count": 112,
   "metadata": {},
   "outputs": [
    {
     "data": {
      "text/plain": [
       "array(['Twitter Web App', 'Hootsuite Inc.', '', 'Google',\n",
       "       'StockTwits Web', 'Crypto Overvalued/Undervalued', 'IFTTT',\n",
       "       'Twitter for Android', 'TweetDeck', 'Twitter for iPhone',\n",
       "       'TradingView', 'Twitter for iPad', 'dlvr.it', 'Gambiste',\n",
       "       'MagicPot', 'Instagram', 'UTDStockNews', 'TQ Alerts', 'YOUNG APP',\n",
       "       'Zapier.com', 'WordPress.com', 'HFT DeskTop v2.x', 'Hyderabad Bot',\n",
       "       'Twitter for Mac', 'Bot Libre!', 'Apple Retweet Bot',\n",
       "       'TalkMarketsApp', 'Donald Ndoro 2', 'Buffer', 'MeetEdgar',\n",
       "       'paulcrypto', 'BlueSpy', 'tC_ProgrammingDesignBot', 'LinkedIn',\n",
       "       'Tweetbot for iΟS', 'Tweetbot for Mac', 'proactive_NA',\n",
       "       'Twitterrific for Mac', 'Techmeme Editors',\n",
       "       'aws-twitterbot-workshop', 'Sumanerts'], dtype=object)"
      ]
     },
     "execution_count": 112,
     "metadata": {},
     "output_type": "execute_result"
    }
   ],
   "source": [
    "tweets_df['source'].unique()"
   ]
  },
  {
   "cell_type": "markdown",
   "metadata": {},
   "source": [
    "### Cumulative Sentiment"
   ]
  },
  {
   "cell_type": "code",
   "execution_count": 113,
   "metadata": {},
   "outputs": [
    {
     "data": {
      "image/png": "[encoded data removed]",
      "text/plain": [
       "<Figure size 432x288 with 1 Axes>"
      ]
     },
     "metadata": {
      "needs_background": "light"
     },
     "output_type": "display_data"
    }
   ],
   "source": [
    "cum_sentiment = []\n",
    "for source in tweets_df['source'].unique():\n",
    "    cum_sentiment.append(tweets_df[tweets_df['source'] == source]['sentiment'].sum() / tweets_df['sentiment'].sum())\n",
    "\n",
    "#tweets_df['cum_sentiment'] = np.cumsum(tweets_df['sentiment'])\n",
    "#tweets_df['cum_sentiment'].sort_values('c', ascending=False)[['a','b']].plot.bar(stacked=True)\n",
    "\n",
    "cols = ['#99003d' if x < 0 else '#009900' for x in cum_sentiment]\n",
    "\n",
    "plt.bar(range(len(cum_sentiment)), cum_sentiment, color=cols)\n",
    "plt.xticks(range(len(cum_sentiment)), tweets_df['source'].unique(), rotation='vertical')\n",
    "plt.hlines(np.mean(cum_sentiment), xmin=-0.5, xmax=len(cum_sentiment)-0.5, linestyles='--', linewidth=0.5, label='mean')\n",
    "plt.ylabel('cumulative sentiment [%]')\n",
    "plt.show()"
   ]
  },
  {
   "cell_type": "markdown",
   "metadata": {},
   "source": [
    "We see that some sources have a higher impact on daily sentiment than others."
   ]
  },
  {
   "cell_type": "markdown",
   "metadata": {},
   "source": [
    "### Retweets"
   ]
  },
  {
   "cell_type": "code",
   "execution_count": 114,
   "metadata": {},
   "outputs": [
    {
     "data": {
      "image/png": "[encoded data removed]",
      "text/plain": [
       "<Figure size 432x288 with 1 Axes>"
      ]
     },
     "metadata": {
      "needs_background": "light"
     },
     "output_type": "display_data"
    }
   ],
   "source": [
    "cum_retweets = []\n",
    "for source in tweets_df['source'].unique():\n",
    "    cum_retweets.append(tweets_df[tweets_df['source'] == source]['retweets'].sum() / tweets_df['retweets'].sum())\n",
    "\n",
    "plt.bar(range(len(cum_retweets)), cum_retweets)\n",
    "plt.xticks(range(len(cum_retweets)), tweets_df['source'].unique(), rotation='vertical')\n",
    "plt.hlines(np.mean(cum_retweets), xmin=-0.5, xmax=len(cum_retweets)-0.5, linestyles='--', linewidth=0.5, label='mean')\n",
    "plt.ylabel('cumulative retweets [%]')\n",
    "plt.show()"
   ]
  },
  {
   "cell_type": "markdown",
   "metadata": {},
   "source": [
    "We see that some sources are never or rarely retweeted, possibly indicating they have useless content."
   ]
  },
  {
   "cell_type": "markdown",
   "metadata": {},
   "source": [
    "### Cum. Sentiment and Retweets"
   ]
  },
  {
   "cell_type": "code",
   "execution_count": 115,
   "metadata": {},
   "outputs": [
    {
     "data": {
      "image/png": "[encoded data removed]",
      "text/plain": [
       "<Figure size 432x288 with 1 Axes>"
      ]
     },
     "metadata": {
      "needs_background": "light"
     },
     "output_type": "display_data"
    }
   ],
   "source": [
    "plt.bar(tweets_df['source'].unique(), cum_sentiment, color='teal', label='sentiment')\n",
    "plt.bar(tweets_df['source'].unique(), cum_retweets, bottom=cum_sentiment, color='c', label='retweets')\n",
    "plt.hlines(y=np.mean(cum_sentiment+cum_retweets), xmin=-0.5, xmax=len(cum_retweets)-0.5, linestyles='--', linewidth=0.5, label='mean')\n",
    "plt.ylabel('cum_sentiment+cum_retweets')\n",
    "plt.xticks(range(len(cum_retweets)), tweets_df['source'].unique(), rotation='vertical')\n",
    "plt.legend()\n",
    "plt.show()"
   ]
  },
  {
   "cell_type": "markdown",
   "metadata": {},
   "source": [
    "The following sources have cum. sentiment and retweets below the mean value, so we exclude them. **We could also choose a certain quantile as threshhold. We should maybe exclude sources under Cum. Sentiment and Retweet threshhold individually, as a source could have a lot of weight on sentiment but no retweets**."
   ]
  },
  {
   "cell_type": "code",
   "execution_count": 116,
   "metadata": {},
   "outputs": [
    {
     "data": {
      "text/plain": [
       "\"\\nlist_sum = np.array([x + y for x, y in zip(cum_sentiment, cum_retweets)])\\nto_drop = tweets_df['source'].unique()[list_sum < np.mean(cum_sentiment+cum_retweets)]\\nprint(to_drop)\\n\""
      ]
     },
     "execution_count": 116,
     "metadata": {},
     "output_type": "execute_result"
    }
   ],
   "source": [
    "'''\n",
    "list_sum = np.array([x + y for x, y in zip(cum_sentiment, cum_retweets)])\n",
    "to_drop = tweets_df['source'].unique()[list_sum < np.mean(cum_sentiment+cum_retweets)]\n",
    "print(to_drop)\n",
    "'''"
   ]
  },
  {
   "cell_type": "code",
   "execution_count": 117,
   "metadata": {},
   "outputs": [],
   "source": [
    "sent_to_drop = tweets_df['source'].unique()[cum_sentiment < np.mean(cum_sentiment)]\n",
    "ret_to_drop = tweets_df['source'].unique()[cum_retweets < np.mean(cum_retweets)]\n",
    "to_drop = list(set(sent_to_drop) | set(ret_to_drop))"
   ]
  },
  {
   "cell_type": "code",
   "execution_count": 118,
   "metadata": {},
   "outputs": [],
   "source": [
    "tweets_df = tweets_df[~tweets_df['source'].isin(to_drop)]"
   ]
  },
  {
   "cell_type": "code",
   "execution_count": 119,
   "metadata": {},
   "outputs": [
    {
     "data": {
      "text/plain": [
       "array(['Twitter Web App', 'Twitter for Android', 'Twitter for iPhone'],\n",
       "      dtype=object)"
      ]
     },
     "execution_count": 119,
     "metadata": {},
     "output_type": "execute_result"
    }
   ],
   "source": [
    "tweets_df['source'].unique()"
   ]
  },
  {
   "cell_type": "code",
   "execution_count": 120,
   "metadata": {},
   "outputs": [
    {
     "data": {
      "text/plain": [
       "(706, 8)"
      ]
     },
     "execution_count": 120,
     "metadata": {},
     "output_type": "execute_result"
    }
   ],
   "source": [
    "tweets_df.shape"
   ]
  },
  {
   "cell_type": "markdown",
   "metadata": {},
   "source": [
    "The textblob module for sentiment analysis is not great. Will implement BERT."
   ]
  },
  {
   "cell_type": "markdown",
   "metadata": {},
   "source": [
    "# Compute Sentiment Score for Date Range"
   ]
  },
  {
   "cell_type": "code",
   "execution_count": 121,
   "metadata": {},
   "outputs": [],
   "source": [
    "gb = tweets_df.groupby(tweets_df.date.dt.date)"
   ]
  },
  {
   "cell_type": "code",
   "execution_count": 131,
   "metadata": {},
   "outputs": [
    {
     "data": {
      "text/html": [
       "<div>\n",
       "<style scoped>\n",
       "    .dataframe tbody tr th:only-of-type {\n",
       "        vertical-align: middle;\n",
       "    }\n",
       "\n",
       "    .dataframe tbody tr th {\n",
       "        vertical-align: top;\n",
       "    }\n",
       "\n",
       "    .dataframe thead th {\n",
       "        text-align: right;\n",
       "    }\n",
       "</style>\n",
       "<table border=\"1\" class=\"dataframe\">\n",
       "  <thead>\n",
       "    <tr style=\"text-align: right;\">\n",
       "      <th></th>\n",
       "      <th>tweets</th>\n",
       "      <th>id</th>\n",
       "      <th>len</th>\n",
       "      <th>date</th>\n",
       "      <th>source</th>\n",
       "      <th>likes</th>\n",
       "      <th>retweets</th>\n",
       "      <th>sentiment</th>\n",
       "    </tr>\n",
       "  </thead>\n",
       "  <tbody>\n",
       "    <tr>\n",
       "      <th>0</th>\n",
       "      <td>AAPL I really know what the 4 1 stock split is...</td>\n",
       "      <td>1291769075039965186</td>\n",
       "      <td>139</td>\n",
       "      <td>2020-08-07 16:12:02</td>\n",
       "      <td>Twitter Web App</td>\n",
       "      <td>0</td>\n",
       "      <td>0</td>\n",
       "      <td>0.100000</td>\n",
       "    </tr>\n",
       "    <tr>\n",
       "      <th>2</th>\n",
       "      <td>RT is not going to do anything that would crea...</td>\n",
       "      <td>1291764703115522050</td>\n",
       "      <td>140</td>\n",
       "      <td>2020-08-07 15:54:39</td>\n",
       "      <td>Twitter Web App</td>\n",
       "      <td>0</td>\n",
       "      <td>1</td>\n",
       "      <td>0.000000</td>\n",
       "    </tr>\n",
       "    <tr>\n",
       "      <th>4</th>\n",
       "      <td>Apple Inc AAPL shares are down 0 76 in the cur...</td>\n",
       "      <td>1291764134904832000</td>\n",
       "      <td>126</td>\n",
       "      <td>2020-08-07 15:52:24</td>\n",
       "      <td>Twitter Web App</td>\n",
       "      <td>1</td>\n",
       "      <td>1</td>\n",
       "      <td>-0.077778</td>\n",
       "    </tr>\n",
       "    <tr>\n",
       "      <th>5</th>\n",
       "      <td>is not going to do anything that would create ...</td>\n",
       "      <td>1291760328720580609</td>\n",
       "      <td>139</td>\n",
       "      <td>2020-08-07 15:37:16</td>\n",
       "      <td>Twitter Web App</td>\n",
       "      <td>3</td>\n",
       "      <td>1</td>\n",
       "      <td>0.000000</td>\n",
       "    </tr>\n",
       "    <tr>\n",
       "      <th>10</th>\n",
       "      <td>Investors still needs AAPL s</td>\n",
       "      <td>1291751291098669057</td>\n",
       "      <td>30</td>\n",
       "      <td>2020-08-07 15:01:22</td>\n",
       "      <td>Twitter Web App</td>\n",
       "      <td>0</td>\n",
       "      <td>0</td>\n",
       "      <td>0.000000</td>\n",
       "    </tr>\n",
       "    <tr>\n",
       "      <th>11</th>\n",
       "      <td>Want to see what Smart Money is trading Join Q...</td>\n",
       "      <td>1291748424157663234</td>\n",
       "      <td>140</td>\n",
       "      <td>2020-08-07 14:49:58</td>\n",
       "      <td>Twitter for Android</td>\n",
       "      <td>0</td>\n",
       "      <td>0</td>\n",
       "      <td>0.071429</td>\n",
       "    </tr>\n",
       "    <tr>\n",
       "      <th>12</th>\n",
       "      <td>My Video has 3 stocks setting up perfectly to ...</td>\n",
       "      <td>1291742788166524928</td>\n",
       "      <td>140</td>\n",
       "      <td>2020-08-07 14:27:34</td>\n",
       "      <td>Twitter Web App</td>\n",
       "      <td>0</td>\n",
       "      <td>0</td>\n",
       "      <td>0.500000</td>\n",
       "    </tr>\n",
       "    <tr>\n",
       "      <th>14</th>\n",
       "      <td>RT Careful what you ask for If Trust Wallet ca...</td>\n",
       "      <td>1291731636682395651</td>\n",
       "      <td>140</td>\n",
       "      <td>2020-08-07 13:43:16</td>\n",
       "      <td>Twitter Web App</td>\n",
       "      <td>0</td>\n",
       "      <td>1</td>\n",
       "      <td>-0.100000</td>\n",
       "    </tr>\n",
       "    <tr>\n",
       "      <th>15</th>\n",
       "      <td>Careful what you ask for If Trust Wallet can w...</td>\n",
       "      <td>1291728859474333697</td>\n",
       "      <td>139</td>\n",
       "      <td>2020-08-07 13:32:13</td>\n",
       "      <td>Twitter Web App</td>\n",
       "      <td>4</td>\n",
       "      <td>1</td>\n",
       "      <td>-0.100000</td>\n",
       "    </tr>\n",
       "    <tr>\n",
       "      <th>16</th>\n",
       "      <td>RH acting up today aapl aapl apple stock</td>\n",
       "      <td>1291727579100123138</td>\n",
       "      <td>69</td>\n",
       "      <td>2020-08-07 13:27:08</td>\n",
       "      <td>Twitter for Android</td>\n",
       "      <td>0</td>\n",
       "      <td>0</td>\n",
       "      <td>0.000000</td>\n",
       "    </tr>\n",
       "    <tr>\n",
       "      <th>17</th>\n",
       "      <td>So AAPL went up 0 82 cents according to RH and...</td>\n",
       "      <td>1291726058216140800</td>\n",
       "      <td>128</td>\n",
       "      <td>2020-08-07 13:21:06</td>\n",
       "      <td>Twitter for Android</td>\n",
       "      <td>0</td>\n",
       "      <td>0</td>\n",
       "      <td>-0.155556</td>\n",
       "    </tr>\n",
       "    <tr>\n",
       "      <th>19</th>\n",
       "      <td>Should AAPL launch its own cryptoshit and the ...</td>\n",
       "      <td>1291717348857122816</td>\n",
       "      <td>139</td>\n",
       "      <td>2020-08-07 12:46:29</td>\n",
       "      <td>Twitter for Android</td>\n",
       "      <td>0</td>\n",
       "      <td>0</td>\n",
       "      <td>0.300000</td>\n",
       "    </tr>\n",
       "    <tr>\n",
       "      <th>22</th>\n",
       "      <td>AAPL has more cash than turkish residents s fx...</td>\n",
       "      <td>1291711137755664384</td>\n",
       "      <td>80</td>\n",
       "      <td>2020-08-07 12:21:48</td>\n",
       "      <td>Twitter for iPhone</td>\n",
       "      <td>1</td>\n",
       "      <td>0</td>\n",
       "      <td>0.500000</td>\n",
       "    </tr>\n",
       "    <tr>\n",
       "      <th>26</th>\n",
       "      <td>If governments put the financial system under ...</td>\n",
       "      <td>1291672302833278978</td>\n",
       "      <td>140</td>\n",
       "      <td>2020-08-07 09:47:29</td>\n",
       "      <td>Twitter for iPhone</td>\n",
       "      <td>0</td>\n",
       "      <td>0</td>\n",
       "      <td>0.000000</td>\n",
       "    </tr>\n",
       "    <tr>\n",
       "      <th>28</th>\n",
       "      <td>My last video has 2 stocks setting up perfectl...</td>\n",
       "      <td>1291661297835216896</td>\n",
       "      <td>140</td>\n",
       "      <td>2020-08-07 09:03:45</td>\n",
       "      <td>Twitter for Android</td>\n",
       "      <td>1</td>\n",
       "      <td>1</td>\n",
       "      <td>0.333333</td>\n",
       "    </tr>\n",
       "    <tr>\n",
       "      <th>29</th>\n",
       "      <td>RT AAPL No words needed</td>\n",
       "      <td>1291658032003391488</td>\n",
       "      <td>65</td>\n",
       "      <td>2020-08-07 08:50:47</td>\n",
       "      <td>Twitter Web App</td>\n",
       "      <td>0</td>\n",
       "      <td>1</td>\n",
       "      <td>0.000000</td>\n",
       "    </tr>\n",
       "    <tr>\n",
       "      <th>31</th>\n",
       "      <td>AAPL No words needed</td>\n",
       "      <td>1291643412404490241</td>\n",
       "      <td>47</td>\n",
       "      <td>2020-08-07 07:52:41</td>\n",
       "      <td>Twitter Web App</td>\n",
       "      <td>3</td>\n",
       "      <td>1</td>\n",
       "      <td>0.000000</td>\n",
       "    </tr>\n",
       "    <tr>\n",
       "      <th>33</th>\n",
       "      <td>Also Apple Aapl worth almost half a trillion m...</td>\n",
       "      <td>1291630244286341121</td>\n",
       "      <td>82</td>\n",
       "      <td>2020-08-07 07:00:22</td>\n",
       "      <td>Twitter for iPhone</td>\n",
       "      <td>0</td>\n",
       "      <td>0</td>\n",
       "      <td>-0.091667</td>\n",
       "    </tr>\n",
       "    <tr>\n",
       "      <th>34</th>\n",
       "      <td>Join us with 50 off Platinum Plan and learn to...</td>\n",
       "      <td>1291625392940490753</td>\n",
       "      <td>144</td>\n",
       "      <td>2020-08-07 06:41:05</td>\n",
       "      <td>Twitter Web App</td>\n",
       "      <td>0</td>\n",
       "      <td>0</td>\n",
       "      <td>0.000000</td>\n",
       "    </tr>\n",
       "    <tr>\n",
       "      <th>35</th>\n",
       "      <td>Soon to be First 2T company AAPL NASDAQ</td>\n",
       "      <td>1291609687587033088</td>\n",
       "      <td>68</td>\n",
       "      <td>2020-08-07 05:38:41</td>\n",
       "      <td>Twitter for Android</td>\n",
       "      <td>0</td>\n",
       "      <td>0</td>\n",
       "      <td>0.250000</td>\n",
       "    </tr>\n",
       "    <tr>\n",
       "      <th>36</th>\n",
       "      <td>Market Stock Market Action Buy and Hold Put op...</td>\n",
       "      <td>1291601809740640256</td>\n",
       "      <td>138</td>\n",
       "      <td>2020-08-07 05:07:22</td>\n",
       "      <td>Twitter for iPhone</td>\n",
       "      <td>0</td>\n",
       "      <td>0</td>\n",
       "      <td>0.100000</td>\n",
       "    </tr>\n",
       "    <tr>\n",
       "      <th>37</th>\n",
       "      <td>Ever time some analyst warns is overpriced and...</td>\n",
       "      <td>1291600135474962432</td>\n",
       "      <td>89</td>\n",
       "      <td>2020-08-07 05:00:43</td>\n",
       "      <td>Twitter Web App</td>\n",
       "      <td>1</td>\n",
       "      <td>0</td>\n",
       "      <td>0.000000</td>\n",
       "    </tr>\n",
       "    <tr>\n",
       "      <th>39</th>\n",
       "      <td>Today we had DIS calls from 19 all the way to ...</td>\n",
       "      <td>1291591721751584769</td>\n",
       "      <td>140</td>\n",
       "      <td>2020-08-07 04:27:17</td>\n",
       "      <td>Twitter for iPhone</td>\n",
       "      <td>0</td>\n",
       "      <td>0</td>\n",
       "      <td>0.187500</td>\n",
       "    </tr>\n",
       "    <tr>\n",
       "      <th>43</th>\n",
       "      <td>Apples stock split Does it really matter aapl</td>\n",
       "      <td>1291587413517774850</td>\n",
       "      <td>72</td>\n",
       "      <td>2020-08-07 04:10:10</td>\n",
       "      <td>Twitter for iPhone</td>\n",
       "      <td>0</td>\n",
       "      <td>0</td>\n",
       "      <td>0.200000</td>\n",
       "    </tr>\n",
       "    <tr>\n",
       "      <th>47</th>\n",
       "      <td>Today s Musings Wild Earnings amp Current Posi...</td>\n",
       "      <td>1291568247981199363</td>\n",
       "      <td>144</td>\n",
       "      <td>2020-08-07 02:54:01</td>\n",
       "      <td>Twitter Web App</td>\n",
       "      <td>1</td>\n",
       "      <td>1</td>\n",
       "      <td>0.016667</td>\n",
       "    </tr>\n",
       "    <tr>\n",
       "      <th>51</th>\n",
       "      <td>AAPL AAPL Trendline resistance is around 495 b...</td>\n",
       "      <td>1291565814374526978</td>\n",
       "      <td>140</td>\n",
       "      <td>2020-08-07 02:44:20</td>\n",
       "      <td>Twitter Web App</td>\n",
       "      <td>28</td>\n",
       "      <td>8</td>\n",
       "      <td>0.000000</td>\n",
       "    </tr>\n",
       "    <tr>\n",
       "      <th>52</th>\n",
       "      <td>AAPL share price adds 1 will value the company...</td>\n",
       "      <td>1291565096246935553</td>\n",
       "      <td>87</td>\n",
       "      <td>2020-08-07 02:41:29</td>\n",
       "      <td>Twitter for iPhone</td>\n",
       "      <td>0</td>\n",
       "      <td>0</td>\n",
       "      <td>0.000000</td>\n",
       "    </tr>\n",
       "    <tr>\n",
       "      <th>53</th>\n",
       "      <td>Made a tad bit of guap today And I do mean tad...</td>\n",
       "      <td>1291562953653747712</td>\n",
       "      <td>86</td>\n",
       "      <td>2020-08-07 02:32:58</td>\n",
       "      <td>Twitter for iPhone</td>\n",
       "      <td>0</td>\n",
       "      <td>0</td>\n",
       "      <td>-0.312500</td>\n",
       "    </tr>\n",
       "    <tr>\n",
       "      <th>55</th>\n",
       "      <td>SPY Back to ATHs almost Recession Corona Pande...</td>\n",
       "      <td>1291561279090565121</td>\n",
       "      <td>139</td>\n",
       "      <td>2020-08-07 02:26:19</td>\n",
       "      <td>Twitter Web App</td>\n",
       "      <td>9</td>\n",
       "      <td>0</td>\n",
       "      <td>-0.250000</td>\n",
       "    </tr>\n",
       "    <tr>\n",
       "      <th>57</th>\n",
       "      <td>ES F There is a big difference b w scalping an...</td>\n",
       "      <td>1291545955037110272</td>\n",
       "      <td>139</td>\n",
       "      <td>2020-08-07 01:25:26</td>\n",
       "      <td>Twitter Web App</td>\n",
       "      <td>27</td>\n",
       "      <td>0</td>\n",
       "      <td>0.100000</td>\n",
       "    </tr>\n",
       "    <tr>\n",
       "      <th>58</th>\n",
       "      <td>SPY Q Did u make today honest response I know ...</td>\n",
       "      <td>1291540148598067200</td>\n",
       "      <td>148</td>\n",
       "      <td>2020-08-07 01:02:21</td>\n",
       "      <td>Twitter Web App</td>\n",
       "      <td>0</td>\n",
       "      <td>0</td>\n",
       "      <td>0.600000</td>\n",
       "    </tr>\n",
       "    <tr>\n",
       "      <th>59</th>\n",
       "      <td>AAPL Just short of 52 billion to hit 2 Trillio...</td>\n",
       "      <td>1291528251609948160</td>\n",
       "      <td>85</td>\n",
       "      <td>2020-08-07 00:15:05</td>\n",
       "      <td>Twitter Web App</td>\n",
       "      <td>7</td>\n",
       "      <td>0</td>\n",
       "      <td>0.000000</td>\n",
       "    </tr>\n",
       "    <tr>\n",
       "      <th>60</th>\n",
       "      <td>I ve been doing ok using call spreads long aap...</td>\n",
       "      <td>1291524960108916736</td>\n",
       "      <td>74</td>\n",
       "      <td>2020-08-07 00:02:00</td>\n",
       "      <td>Twitter for iPhone</td>\n",
       "      <td>0</td>\n",
       "      <td>0</td>\n",
       "      <td>0.225000</td>\n",
       "    </tr>\n",
       "  </tbody>\n",
       "</table>\n",
       "</div>"
      ],
      "text/plain": [
       "                                               tweets                   id  \\\n",
       "0   AAPL I really know what the 4 1 stock split is...  1291769075039965186   \n",
       "2   RT is not going to do anything that would crea...  1291764703115522050   \n",
       "4   Apple Inc AAPL shares are down 0 76 in the cur...  1291764134904832000   \n",
       "5   is not going to do anything that would create ...  1291760328720580609   \n",
       "10                       Investors still needs AAPL s  1291751291098669057   \n",
       "11  Want to see what Smart Money is trading Join Q...  1291748424157663234   \n",
       "12  My Video has 3 stocks setting up perfectly to ...  1291742788166524928   \n",
       "14  RT Careful what you ask for If Trust Wallet ca...  1291731636682395651   \n",
       "15  Careful what you ask for If Trust Wallet can w...  1291728859474333697   \n",
       "16           RH acting up today aapl aapl apple stock  1291727579100123138   \n",
       "17  So AAPL went up 0 82 cents according to RH and...  1291726058216140800   \n",
       "19  Should AAPL launch its own cryptoshit and the ...  1291717348857122816   \n",
       "22  AAPL has more cash than turkish residents s fx...  1291711137755664384   \n",
       "26  If governments put the financial system under ...  1291672302833278978   \n",
       "28  My last video has 2 stocks setting up perfectl...  1291661297835216896   \n",
       "29                            RT AAPL No words needed  1291658032003391488   \n",
       "31                               AAPL No words needed  1291643412404490241   \n",
       "33  Also Apple Aapl worth almost half a trillion m...  1291630244286341121   \n",
       "34  Join us with 50 off Platinum Plan and learn to...  1291625392940490753   \n",
       "35            Soon to be First 2T company AAPL NASDAQ  1291609687587033088   \n",
       "36  Market Stock Market Action Buy and Hold Put op...  1291601809740640256   \n",
       "37  Ever time some analyst warns is overpriced and...  1291600135474962432   \n",
       "39  Today we had DIS calls from 19 all the way to ...  1291591721751584769   \n",
       "43      Apples stock split Does it really matter aapl  1291587413517774850   \n",
       "47  Today s Musings Wild Earnings amp Current Posi...  1291568247981199363   \n",
       "51  AAPL AAPL Trendline resistance is around 495 b...  1291565814374526978   \n",
       "52  AAPL share price adds 1 will value the company...  1291565096246935553   \n",
       "53  Made a tad bit of guap today And I do mean tad...  1291562953653747712   \n",
       "55  SPY Back to ATHs almost Recession Corona Pande...  1291561279090565121   \n",
       "57  ES F There is a big difference b w scalping an...  1291545955037110272   \n",
       "58  SPY Q Did u make today honest response I know ...  1291540148598067200   \n",
       "59  AAPL Just short of 52 billion to hit 2 Trillio...  1291528251609948160   \n",
       "60  I ve been doing ok using call spreads long aap...  1291524960108916736   \n",
       "\n",
       "    len                date               source  likes  retweets  sentiment  \n",
       "0   139 2020-08-07 16:12:02      Twitter Web App      0         0   0.100000  \n",
       "2   140 2020-08-07 15:54:39      Twitter Web App      0         1   0.000000  \n",
       "4   126 2020-08-07 15:52:24      Twitter Web App      1         1  -0.077778  \n",
       "5   139 2020-08-07 15:37:16      Twitter Web App      3         1   0.000000  \n",
       "10   30 2020-08-07 15:01:22      Twitter Web App      0         0   0.000000  \n",
       "11  140 2020-08-07 14:49:58  Twitter for Android      0         0   0.071429  \n",
       "12  140 2020-08-07 14:27:34      Twitter Web App      0         0   0.500000  \n",
       "14  140 2020-08-07 13:43:16      Twitter Web App      0         1  -0.100000  \n",
       "15  139 2020-08-07 13:32:13      Twitter Web App      4         1  -0.100000  \n",
       "16   69 2020-08-07 13:27:08  Twitter for Android      0         0   0.000000  \n",
       "17  128 2020-08-07 13:21:06  Twitter for Android      0         0  -0.155556  \n",
       "19  139 2020-08-07 12:46:29  Twitter for Android      0         0   0.300000  \n",
       "22   80 2020-08-07 12:21:48   Twitter for iPhone      1         0   0.500000  \n",
       "26  140 2020-08-07 09:47:29   Twitter for iPhone      0         0   0.000000  \n",
       "28  140 2020-08-07 09:03:45  Twitter for Android      1         1   0.333333  \n",
       "29   65 2020-08-07 08:50:47      Twitter Web App      0         1   0.000000  \n",
       "31   47 2020-08-07 07:52:41      Twitter Web App      3         1   0.000000  \n",
       "33   82 2020-08-07 07:00:22   Twitter for iPhone      0         0  -0.091667  \n",
       "34  144 2020-08-07 06:41:05      Twitter Web App      0         0   0.000000  \n",
       "35   68 2020-08-07 05:38:41  Twitter for Android      0         0   0.250000  \n",
       "36  138 2020-08-07 05:07:22   Twitter for iPhone      0         0   0.100000  \n",
       "37   89 2020-08-07 05:00:43      Twitter Web App      1         0   0.000000  \n",
       "39  140 2020-08-07 04:27:17   Twitter for iPhone      0         0   0.187500  \n",
       "43   72 2020-08-07 04:10:10   Twitter for iPhone      0         0   0.200000  \n",
       "47  144 2020-08-07 02:54:01      Twitter Web App      1         1   0.016667  \n",
       "51  140 2020-08-07 02:44:20      Twitter Web App     28         8   0.000000  \n",
       "52   87 2020-08-07 02:41:29   Twitter for iPhone      0         0   0.000000  \n",
       "53   86 2020-08-07 02:32:58   Twitter for iPhone      0         0  -0.312500  \n",
       "55  139 2020-08-07 02:26:19      Twitter Web App      9         0  -0.250000  \n",
       "57  139 2020-08-07 01:25:26      Twitter Web App     27         0   0.100000  \n",
       "58  148 2020-08-07 01:02:21      Twitter Web App      0         0   0.600000  \n",
       "59   85 2020-08-07 00:15:05      Twitter Web App      7         0   0.000000  \n",
       "60   74 2020-08-07 00:02:00   Twitter for iPhone      0         0   0.225000  "
      ]
     },
     "execution_count": 131,
     "metadata": {},
     "output_type": "execute_result"
    }
   ],
   "source": [
    "gb.get_group('2020-08-07')"
   ]
  },
  {
   "cell_type": "code",
   "execution_count": 137,
   "metadata": {},
   "outputs": [],
   "source": [
    "daily_sentiment = {}\n",
    "dates = pd.to_datetime(tweets_df.date.dt.strftime('%Y-%m-%d')).unique()\n",
    "daily_sentiment['dates'] = dates\n",
    "daily_sentiment['sentiment'] = [gb.get_group(date).sentiment.sum() for date in dates]"
   ]
  },
  {
   "cell_type": "code",
   "execution_count": 139,
   "metadata": {},
   "outputs": [
    {
     "data": {
      "text/html": [
       "<div>\n",
       "<style scoped>\n",
       "    .dataframe tbody tr th:only-of-type {\n",
       "        vertical-align: middle;\n",
       "    }\n",
       "\n",
       "    .dataframe tbody tr th {\n",
       "        vertical-align: top;\n",
       "    }\n",
       "\n",
       "    .dataframe thead th {\n",
       "        text-align: right;\n",
       "    }\n",
       "</style>\n",
       "<table border=\"1\" class=\"dataframe\">\n",
       "  <thead>\n",
       "    <tr style=\"text-align: right;\">\n",
       "      <th></th>\n",
       "      <th>dates</th>\n",
       "      <th>sentiment</th>\n",
       "    </tr>\n",
       "  </thead>\n",
       "  <tbody>\n",
       "    <tr>\n",
       "      <th>0</th>\n",
       "      <td>2020-08-07</td>\n",
       "      <td>2.396429</td>\n",
       "    </tr>\n",
       "    <tr>\n",
       "      <th>1</th>\n",
       "      <td>2020-08-06</td>\n",
       "      <td>3.653077</td>\n",
       "    </tr>\n",
       "    <tr>\n",
       "      <th>2</th>\n",
       "      <td>2020-08-05</td>\n",
       "      <td>4.657285</td>\n",
       "    </tr>\n",
       "    <tr>\n",
       "      <th>3</th>\n",
       "      <td>2020-08-04</td>\n",
       "      <td>8.328066</td>\n",
       "    </tr>\n",
       "    <tr>\n",
       "      <th>4</th>\n",
       "      <td>2020-08-03</td>\n",
       "      <td>7.553068</td>\n",
       "    </tr>\n",
       "    <tr>\n",
       "      <th>5</th>\n",
       "      <td>2020-08-02</td>\n",
       "      <td>2.008207</td>\n",
       "    </tr>\n",
       "    <tr>\n",
       "      <th>6</th>\n",
       "      <td>2020-08-01</td>\n",
       "      <td>3.167406</td>\n",
       "    </tr>\n",
       "    <tr>\n",
       "      <th>7</th>\n",
       "      <td>2020-07-31</td>\n",
       "      <td>18.179862</td>\n",
       "    </tr>\n",
       "    <tr>\n",
       "      <th>8</th>\n",
       "      <td>2020-07-30</td>\n",
       "      <td>19.403752</td>\n",
       "    </tr>\n",
       "    <tr>\n",
       "      <th>9</th>\n",
       "      <td>2020-07-29</td>\n",
       "      <td>3.633333</td>\n",
       "    </tr>\n",
       "  </tbody>\n",
       "</table>\n",
       "</div>"
      ],
      "text/plain": [
       "       dates  sentiment\n",
       "0 2020-08-07   2.396429\n",
       "1 2020-08-06   3.653077\n",
       "2 2020-08-05   4.657285\n",
       "3 2020-08-04   8.328066\n",
       "4 2020-08-03   7.553068\n",
       "5 2020-08-02   2.008207\n",
       "6 2020-08-01   3.167406\n",
       "7 2020-07-31  18.179862\n",
       "8 2020-07-30  19.403752\n",
       "9 2020-07-29   3.633333"
      ]
     },
     "execution_count": 139,
     "metadata": {},
     "output_type": "execute_result"
    }
   ],
   "source": [
    "daily_sentiment = pd.DataFrame(daily_sentiment)\n",
    "daily_sentiment"
   ]
  },
  {
   "cell_type": "code",
   "execution_count": 140,
   "metadata": {},
   "outputs": [
    {
     "data": {
      "text/plain": [
       "'\\nstart_dates = pd.date_range(start=\"2020-07-01\",end=\"2020-08-07\").strftime(\\'%Y-%m-%d\\')\\nend_dates = pd.date_range(start=\"2020-07-02\",end=\"2020-08-08\").strftime(\\'%Y-%m-%d\\')\\n\\nprint(start_dates)\\nprint(end_dates)\\n'"
      ]
     },
     "execution_count": 140,
     "metadata": {},
     "output_type": "execute_result"
    }
   ],
   "source": [
    "'''\n",
    "start_dates = pd.date_range(start=\"2020-07-01\",end=\"2020-08-07\").strftime('%Y-%m-%d')\n",
    "end_dates = pd.date_range(start=\"2020-07-02\",end=\"2020-08-08\").strftime('%Y-%m-%d')\n",
    "\n",
    "print(start_dates)\n",
    "print(end_dates)\n",
    "'''"
   ]
  },
  {
   "cell_type": "code",
   "execution_count": 141,
   "metadata": {},
   "outputs": [
    {
     "data": {
      "text/plain": [
       "'\\nMAX_TWEETS = 10000\\n\\nauth = tweepy.OAuthHandler(twitter_credentials.CONSUMER_KEY, twitter_credentials.CONSUMER_SECRET)\\napi = tweepy.API(auth)\\n\\ntweet_collector = TweetCollector()\\n\\nsentiment_df = {}\\n\\nfor start_date, end_date in zip(start_dates, end_dates):\\n\\n    try:\\n        tweets = tweet_collector.collect_tweets(hashtag=\"#AAPL since:{} until:{}\".format(start_date, end_date), max_tweets=MAX_TWEETS)\\n        tweets_df = tweet_collector.tweets_to_data_frame(tweets)\\n        tweets_df[\\'tweets\\'] = pd.DataFrame([tweet_collector.clean_tweet(tweet) for tweet in tweets_df[\\'tweets\\']])\\n        tweets_df = tweets_df.drop_duplicates(subset=[\\'tweets\\'])\\n        tweets_df[\\'sentiment\\'] = np.array([tweet_collector.analyze_sentiment(tweet) for tweet in tweets_df[\\'tweets\\']])\\n\\n        sentiment_df[start_date] = tweets_df[\\'sentiment\\']\\n    except:\\n        sentiment_df[start_date] = 0\\n'"
      ]
     },
     "execution_count": 141,
     "metadata": {},
     "output_type": "execute_result"
    }
   ],
   "source": [
    "'''\n",
    "MAX_TWEETS = 10000\n",
    "\n",
    "auth = tweepy.OAuthHandler(twitter_credentials.CONSUMER_KEY, twitter_credentials.CONSUMER_SECRET)\n",
    "api = tweepy.API(auth)\n",
    "\n",
    "tweet_collector = TweetCollector()\n",
    "\n",
    "sentiment_df = {}\n",
    "\n",
    "for start_date, end_date in zip(start_dates, end_dates):\n",
    "\n",
    "    try:\n",
    "        tweets = tweet_collector.collect_tweets(hashtag=\"#AAPL since:{} until:{}\".format(start_date, end_date), max_tweets=MAX_TWEETS)\n",
    "        tweets_df = tweet_collector.tweets_to_data_frame(tweets)\n",
    "        tweets_df['tweets'] = pd.DataFrame([tweet_collector.clean_tweet(tweet) for tweet in tweets_df['tweets']])\n",
    "        tweets_df = tweets_df.drop_duplicates(subset=['tweets'])\n",
    "        tweets_df['sentiment'] = np.array([tweet_collector.analyze_sentiment(tweet) for tweet in tweets_df['tweets']])\n",
    "\n",
    "        sentiment_df[start_date] = tweets_df['sentiment']\n",
    "    except:\n",
    "        sentiment_df[start_date] = 0\n",
    "'''"
   ]
  },
  {
   "cell_type": "code",
   "execution_count": 142,
   "metadata": {},
   "outputs": [
    {
     "data": {
      "text/plain": [
       "'\\ndaily_sentiment = [sentiment_df[key].sum() for key in sentiment_df.keys()]\\ndaily_sentiment\\n'"
      ]
     },
     "execution_count": 142,
     "metadata": {},
     "output_type": "execute_result"
    }
   ],
   "source": [
    "'''\n",
    "daily_sentiment = [sentiment_df[key].sum() for key in sentiment_df.keys()]\n",
    "daily_sentiment\n",
    "'''"
   ]
  },
  {
   "cell_type": "code",
   "execution_count": null,
   "metadata": {},
   "outputs": [],
   "source": [
    "! pip install yfinance"
   ]
  },
  {
   "cell_type": "code",
   "execution_count": 143,
   "metadata": {},
   "outputs": [],
   "source": [
    "import yfinance as yf"
   ]
  },
  {
   "cell_type": "code",
   "execution_count": 166,
   "metadata": {},
   "outputs": [
    {
     "data": {
      "text/plain": [
       "DatetimeIndex(['2020-08-07', '2020-08-06', '2020-08-05', '2020-08-04',\n",
       "               '2020-08-03', '2020-08-02', '2020-08-01', '2020-07-31',\n",
       "               '2020-07-30', '2020-07-29'],\n",
       "              dtype='datetime64[ns]', freq=None)"
      ]
     },
     "execution_count": 166,
     "metadata": {},
     "output_type": "execute_result"
    }
   ],
   "source": [
    "dates = pd.to_datetime(tweets_df.date.dt.strftime('%Y-%m-%d').unique())\n",
    "dates"
   ]
  },
  {
   "cell_type": "code",
   "execution_count": 167,
   "metadata": {},
   "outputs": [
    {
     "name": "stdout",
     "output_type": "stream",
     "text": [
      "[*********************100%***********************]  1 of 1 completed\n"
     ]
    },
    {
     "data": {
      "text/plain": [
       "(7, 6)"
      ]
     },
     "execution_count": 167,
     "metadata": {},
     "output_type": "execute_result"
    }
   ],
   "source": [
    "aapl = yf.download('AAPL',dates[-1].strftime('%Y-%m-%d'),dates[0].strftime('%Y-%m-%d'))\n",
    "aapl.shape"
   ]
  },
  {
   "cell_type": "markdown",
   "metadata": {},
   "source": [
    "# CUMSUM WEEKENDS TO MONDAY"
   ]
  },
  {
   "cell_type": "code",
   "execution_count": 190,
   "metadata": {},
   "outputs": [
    {
     "data": {
      "text/plain": [
       "Date\n",
       "2020-07-29    380.160004\n",
       "2020-07-30    384.760010\n",
       "2020-07-31    425.040009\n",
       "2020-08-03    435.750000\n",
       "2020-08-04    438.660004\n",
       "2020-08-05    440.250000\n",
       "2020-08-06    455.609985\n",
       "Name: Close, dtype: float64"
      ]
     },
     "execution_count": 190,
     "metadata": {},
     "output_type": "execute_result"
    }
   ],
   "source": [
    "aapl['Close']"
   ]
  },
  {
   "cell_type": "code",
   "execution_count": 197,
   "metadata": {},
   "outputs": [
    {
     "data": {
      "text/plain": [
       "9   2020-07-29\n",
       "8   2020-07-30\n",
       "7   2020-07-31\n",
       "6   2020-08-01\n",
       "5   2020-08-02\n",
       "4   2020-08-03\n",
       "3   2020-08-04\n",
       "2   2020-08-05\n",
       "1   2020-08-06\n",
       "0   2020-08-07\n",
       "Name: dates, dtype: datetime64[ns]"
      ]
     },
     "execution_count": 197,
     "metadata": {},
     "output_type": "execute_result"
    }
   ],
   "source": [
    "daily_sentiment.dates[::-1]"
   ]
  },
  {
   "cell_type": "code",
   "execution_count": 204,
   "metadata": {},
   "outputs": [
    {
     "data": {
      "text/plain": [
       "[Timestamp('2020-08-01 00:00:00'),\n",
       " Timestamp('2020-08-02 00:00:00'),\n",
       " Timestamp('2020-08-07 00:00:00')]"
      ]
     },
     "execution_count": 204,
     "metadata": {},
     "output_type": "execute_result"
    }
   ],
   "source": [
    "non_trading_days = list(set(daily_sentiment.dates[::-1]) - set(aapl.index))\n",
    "non_trading_days.sort()\n",
    "non_trading_days"
   ]
  },
  {
   "cell_type": "code",
   "execution_count": 225,
   "metadata": {},
   "outputs": [
    {
     "data": {
      "text/html": [
       "<div>\n",
       "<style scoped>\n",
       "    .dataframe tbody tr th:only-of-type {\n",
       "        vertical-align: middle;\n",
       "    }\n",
       "\n",
       "    .dataframe tbody tr th {\n",
       "        vertical-align: top;\n",
       "    }\n",
       "\n",
       "    .dataframe thead th {\n",
       "        text-align: right;\n",
       "    }\n",
       "</style>\n",
       "<table border=\"1\" class=\"dataframe\">\n",
       "  <thead>\n",
       "    <tr style=\"text-align: right;\">\n",
       "      <th></th>\n",
       "      <th>dates</th>\n",
       "      <th>sentiment</th>\n",
       "    </tr>\n",
       "  </thead>\n",
       "  <tbody>\n",
       "    <tr>\n",
       "      <th>0</th>\n",
       "      <td>2020-08-07</td>\n",
       "      <td>2.396429</td>\n",
       "    </tr>\n",
       "    <tr>\n",
       "      <th>1</th>\n",
       "      <td>2020-08-06</td>\n",
       "      <td>3.653077</td>\n",
       "    </tr>\n",
       "    <tr>\n",
       "      <th>2</th>\n",
       "      <td>2020-08-05</td>\n",
       "      <td>4.657285</td>\n",
       "    </tr>\n",
       "    <tr>\n",
       "      <th>3</th>\n",
       "      <td>2020-08-04</td>\n",
       "      <td>8.328066</td>\n",
       "    </tr>\n",
       "    <tr>\n",
       "      <th>4</th>\n",
       "      <td>2020-08-03</td>\n",
       "      <td>7.553068</td>\n",
       "    </tr>\n",
       "    <tr>\n",
       "      <th>5</th>\n",
       "      <td>2020-08-02</td>\n",
       "      <td>2.008207</td>\n",
       "    </tr>\n",
       "    <tr>\n",
       "      <th>6</th>\n",
       "      <td>2020-08-01</td>\n",
       "      <td>3.167406</td>\n",
       "    </tr>\n",
       "    <tr>\n",
       "      <th>7</th>\n",
       "      <td>2020-07-31</td>\n",
       "      <td>18.179862</td>\n",
       "    </tr>\n",
       "    <tr>\n",
       "      <th>8</th>\n",
       "      <td>2020-07-30</td>\n",
       "      <td>19.403752</td>\n",
       "    </tr>\n",
       "    <tr>\n",
       "      <th>9</th>\n",
       "      <td>2020-07-29</td>\n",
       "      <td>3.633333</td>\n",
       "    </tr>\n",
       "  </tbody>\n",
       "</table>\n",
       "</div>"
      ],
      "text/plain": [
       "       dates  sentiment\n",
       "0 2020-08-07   2.396429\n",
       "1 2020-08-06   3.653077\n",
       "2 2020-08-05   4.657285\n",
       "3 2020-08-04   8.328066\n",
       "4 2020-08-03   7.553068\n",
       "5 2020-08-02   2.008207\n",
       "6 2020-08-01   3.167406\n",
       "7 2020-07-31  18.179862\n",
       "8 2020-07-30  19.403752\n",
       "9 2020-07-29   3.633333"
      ]
     },
     "execution_count": 225,
     "metadata": {},
     "output_type": "execute_result"
    }
   ],
   "source": [
    "daily_sentiment"
   ]
  },
  {
   "cell_type": "code",
   "execution_count": 254,
   "metadata": {},
   "outputs": [
    {
     "data": {
      "text/plain": [
       "DatetimeIndex(['2020-07-29', '2020-07-30', '2020-07-31', '2020-08-03',\n",
       "               '2020-08-04', '2020-08-05', '2020-08-06'],\n",
       "              dtype='datetime64[ns]', name='Date', freq=None)"
      ]
     },
     "execution_count": 254,
     "metadata": {},
     "output_type": "execute_result"
    }
   ],
   "source": [
    "aapl.index"
   ]
  },
  {
   "cell_type": "code",
   "execution_count": 251,
   "metadata": {},
   "outputs": [
    {
     "data": {
      "text/plain": [
       "True"
      ]
     },
     "execution_count": 251,
     "metadata": {},
     "output_type": "execute_result"
    }
   ],
   "source": [
    "(daily_sentiment.dates[0] - daily_sentiment.dates[1] == timedelta(days=1))"
   ]
  },
  {
   "cell_type": "code",
   "execution_count": 252,
   "metadata": {},
   "outputs": [
    {
     "data": {
      "text/plain": [
       "[1, 1, 1, 1, 1, 1, 1, 1, 1]"
      ]
     },
     "execution_count": 252,
     "metadata": {},
     "output_type": "execute_result"
    }
   ],
   "source": [
    "[1 if (daily_sentiment.dates[i] - daily_sentiment.dates[i+1] == timedelta(days=1)) else 0 for i in range(daily_sentiment.shape[0]-1)]"
   ]
  },
  {
   "cell_type": "code",
   "execution_count": 239,
   "metadata": {},
   "outputs": [
    {
     "data": {
      "text/plain": [
       "[True, False]"
      ]
     },
     "execution_count": 239,
     "metadata": {},
     "output_type": "execute_result"
    }
   ],
   "source": [
    "is_consec = [True if (non_trading_days[i+1] - non_trading_days[i] == timedelta(days=1)) else False for i in range(len(non_trading_days)-1)]\n",
    "is_consec\n"
   ]
  },
  {
   "cell_type": "code",
   "execution_count": 243,
   "metadata": {},
   "outputs": [
    {
     "data": {
      "text/plain": [
       "0   2020-08-07\n",
       "1   2020-08-06\n",
       "2   2020-08-05\n",
       "3   2020-08-04\n",
       "4   2020-08-03\n",
       "5   2020-08-02\n",
       "6   2020-08-01\n",
       "7   2020-07-31\n",
       "8   2020-07-30\n",
       "9   2020-07-29\n",
       "Name: dates, dtype: datetime64[ns]"
      ]
     },
     "execution_count": 243,
     "metadata": {},
     "output_type": "execute_result"
    }
   ],
   "source": [
    "daily_sentiment.dates"
   ]
  },
  {
   "cell_type": "code",
   "execution_count": null,
   "metadata": {},
   "outputs": [],
   "source": []
  },
  {
   "cell_type": "code",
   "execution_count": null,
   "metadata": {},
   "outputs": [],
   "source": []
  },
  {
   "cell_type": "markdown",
   "metadata": {},
   "source": [
    "# PLOT"
   ]
  },
  {
   "cell_type": "code",
   "execution_count": 261,
   "metadata": {},
   "outputs": [
    {
     "data": {
      "text/plain": [
       "[Timestamp('2020-08-01 00:00:00'),\n",
       " Timestamp('2020-08-07 00:00:00'),\n",
       " Timestamp('2020-08-02 00:00:00')]"
      ]
     },
     "execution_count": 261,
     "metadata": {},
     "output_type": "execute_result"
    }
   ],
   "source": [
    "drop_idx = list(set(daily_sentiment.dates[::-1]) - set(aapl.index))\n",
    "drop_idx"
   ]
  },
  {
   "cell_type": "code",
   "execution_count": 262,
   "metadata": {},
   "outputs": [
    {
     "data": {
      "text/html": [
       "<div>\n",
       "<style scoped>\n",
       "    .dataframe tbody tr th:only-of-type {\n",
       "        vertical-align: middle;\n",
       "    }\n",
       "\n",
       "    .dataframe tbody tr th {\n",
       "        vertical-align: top;\n",
       "    }\n",
       "\n",
       "    .dataframe thead th {\n",
       "        text-align: right;\n",
       "    }\n",
       "</style>\n",
       "<table border=\"1\" class=\"dataframe\">\n",
       "  <thead>\n",
       "    <tr style=\"text-align: right;\">\n",
       "      <th></th>\n",
       "      <th>dates</th>\n",
       "      <th>sentiment</th>\n",
       "    </tr>\n",
       "  </thead>\n",
       "  <tbody>\n",
       "    <tr>\n",
       "      <th>1</th>\n",
       "      <td>2020-08-06</td>\n",
       "      <td>3.653077</td>\n",
       "    </tr>\n",
       "    <tr>\n",
       "      <th>2</th>\n",
       "      <td>2020-08-05</td>\n",
       "      <td>4.657285</td>\n",
       "    </tr>\n",
       "    <tr>\n",
       "      <th>3</th>\n",
       "      <td>2020-08-04</td>\n",
       "      <td>8.328066</td>\n",
       "    </tr>\n",
       "    <tr>\n",
       "      <th>4</th>\n",
       "      <td>2020-08-03</td>\n",
       "      <td>7.553068</td>\n",
       "    </tr>\n",
       "    <tr>\n",
       "      <th>7</th>\n",
       "      <td>2020-07-31</td>\n",
       "      <td>18.179862</td>\n",
       "    </tr>\n",
       "    <tr>\n",
       "      <th>8</th>\n",
       "      <td>2020-07-30</td>\n",
       "      <td>19.403752</td>\n",
       "    </tr>\n",
       "    <tr>\n",
       "      <th>9</th>\n",
       "      <td>2020-07-29</td>\n",
       "      <td>3.633333</td>\n",
       "    </tr>\n",
       "  </tbody>\n",
       "</table>\n",
       "</div>"
      ],
      "text/plain": [
       "       dates  sentiment\n",
       "1 2020-08-06   3.653077\n",
       "2 2020-08-05   4.657285\n",
       "3 2020-08-04   8.328066\n",
       "4 2020-08-03   7.553068\n",
       "7 2020-07-31  18.179862\n",
       "8 2020-07-30  19.403752\n",
       "9 2020-07-29   3.633333"
      ]
     },
     "execution_count": 262,
     "metadata": {},
     "output_type": "execute_result"
    }
   ],
   "source": [
    "daily_sentiment = daily_sentiment[~daily_sentiment.dates.isin(drop_idx)]\n",
    "daily_sentiment"
   ]
  },
  {
   "cell_type": "code",
   "execution_count": 279,
   "metadata": {},
   "outputs": [
    {
     "data": {
      "image/png": "[encoded data removed]",
      "text/plain": [
       "<Figure size 432x288 with 2 Axes>"
      ]
     },
     "metadata": {
      "needs_background": "light"
     },
     "output_type": "display_data"
    }
   ],
   "source": [
    "fig, ax1 = plt.subplots()\n",
    "\n",
    "ax1.plot(range(aapl.shape[0]), aapl['Close'], '-o')\n",
    "plt.ylabel('AAPL stock price')\n",
    "ax2 = ax1.twinx()\n",
    "ax2.bar(range(aapl.shape[0]), daily_sentiment.sentiment, alpha=0.5)\n",
    "\n",
    "\n",
    "ax1.set_xticklabels(aapl.index, rotation='vertical')\n",
    "plt.show()"
   ]
  },
  {
   "cell_type": "markdown",
   "metadata": {},
   "source": [
    "# MORE DATA"
   ]
  },
  {
   "cell_type": "code",
   "execution_count": null,
   "metadata": {},
   "outputs": [],
   "source": [
    "MAX_TWEETS = 10000\n",
    "since = '2020-01-01'\n",
    "until = '2020-08-08'\n",
    "\n",
    "auth = tweepy.OAuthHandler(twitter_credentials.CONSUMER_KEY, twitter_credentials.CONSUMER_SECRET)\n",
    "api = tweepy.API(auth)\n",
    "\n",
    "tweet_collector = TweetCollector()"
   ]
  },
  {
   "cell_type": "code",
   "execution_count": 302,
   "metadata": {},
   "outputs": [
    {
     "data": {
      "text/plain": [
       "Timestamp('2020-06-30 00:00:00', freq='D')"
      ]
     },
     "execution_count": 302,
     "metadata": {},
     "output_type": "execute_result"
    }
   ],
   "source": [
    "start_dates[0]-timedelta(1)"
   ]
  },
  {
   "cell_type": "code",
   "execution_count": null,
   "metadata": {},
   "outputs": [],
   "source": []
  },
  {
   "cell_type": "code",
   "execution_count": null,
   "metadata": {},
   "outputs": [],
   "source": []
  },
  {
   "cell_type": "code",
   "execution_count": 325,
   "metadata": {},
   "outputs": [
    {
     "name": "stdout",
     "output_type": "stream",
     "text": [
      "Index(['2020-07-20', '2020-07-21', '2020-07-22', '2020-07-23', '2020-07-24',\n",
      "       '2020-07-25', '2020-07-26', '2020-07-27', '2020-07-28', '2020-07-29',\n",
      "       '2020-07-30', '2020-07-31', '2020-08-01', '2020-08-02', '2020-08-03',\n",
      "       '2020-08-04', '2020-08-05', '2020-08-06', '2020-08-07'],\n",
      "      dtype='object')\n",
      "Index(['2020-07-21', '2020-07-22', '2020-07-23', '2020-07-24', '2020-07-25',\n",
      "       '2020-07-26', '2020-07-27', '2020-07-28', '2020-07-29', '2020-07-30',\n",
      "       '2020-07-31', '2020-08-01', '2020-08-02', '2020-08-03', '2020-08-04',\n",
      "       '2020-08-05', '2020-08-06', '2020-08-07', '2020-08-08'],\n",
      "      dtype='object')\n"
     ]
    }
   ],
   "source": [
    "start_dates = pd.date_range(start=\"2020-07-20\",end=\"2020-08-07\").strftime('%Y-%m-%d')\n",
    "end_dates = pd.date_range(start=\"2020-07-21\",end=\"2020-08-08\").strftime('%Y-%m-%d')\n",
    "\n",
    "print(start_dates)\n",
    "print(end_dates)"
   ]
  },
  {
   "cell_type": "code",
   "execution_count": 317,
   "metadata": {},
   "outputs": [],
   "source": [
    "MAX_TWEETS = 10000\n",
    "\n",
    "auth = tweepy.OAuthHandler(twitter_credentials.CONSUMER_KEY, twitter_credentials.CONSUMER_SECRET)\n",
    "api = tweepy.API(auth)\n",
    "\n",
    "tweet_collector = TweetCollector()"
   ]
  },
  {
   "cell_type": "code",
   "execution_count": 326,
   "metadata": {},
   "outputs": [],
   "source": [
    "sentiment_df = {}\n",
    "\n",
    "for start_date, end_date in zip(start_dates, end_dates):\n",
    "\n",
    "    try:\n",
    "        tweets = tweet_collector.collect_tweets(hashtag=\"#AAPL since:{} until:{}\".format(start_date, end_date), max_tweets=MAX_TWEETS)\n",
    "        tweets_df = tweet_collector.tweets_to_data_frame(tweets)\n",
    "        tweets_df['tweets'] = pd.DataFrame([tweet_collector.clean_tweet(tweet) for tweet in tweets_df['tweets']])\n",
    "        tweets_df = tweets_df.drop_duplicates(subset=['tweets'])\n",
    "        tweets_df['sentiment'] = np.array([tweet_collector.analyze_sentiment(tweet) for tweet in tweets_df['tweets']])\n",
    "\n",
    "        sentiment_df[start_date] = tweets_df['sentiment']\n",
    "    except:\n",
    "        sentiment_df[start_date] = 0\n",
    "        \n",
    "    break"
   ]
  },
  {
   "cell_type": "code",
   "execution_count": 329,
   "metadata": {},
   "outputs": [
    {
     "data": {
      "text/plain": [
       "{'2020-07-20': 0}"
      ]
     },
     "execution_count": 329,
     "metadata": {},
     "output_type": "execute_result"
    }
   ],
   "source": [
    "sentiment_df"
   ]
  },
  {
   "cell_type": "code",
   "execution_count": 327,
   "metadata": {},
   "outputs": [
    {
     "ename": "KeyError",
     "evalue": "'2020-08-01'",
     "output_type": "error",
     "traceback": [
      "\u001b[0;31m---------------------------------------------------------------------------\u001b[0m",
      "\u001b[0;31mKeyError\u001b[0m                                  Traceback (most recent call last)",
      "\u001b[0;32m<ipython-input-327-baac5638d288>\u001b[0m in \u001b[0;36m<module>\u001b[0;34m\u001b[0m\n\u001b[0;32m----> 1\u001b[0;31m \u001b[0msentiment_df\u001b[0m\u001b[0;34m[\u001b[0m\u001b[0;34m'2020-08-01'\u001b[0m\u001b[0;34m]\u001b[0m\u001b[0;34m.\u001b[0m\u001b[0msum\u001b[0m\u001b[0;34m(\u001b[0m\u001b[0;34m)\u001b[0m\u001b[0;34m\u001b[0m\u001b[0;34m\u001b[0m\u001b[0m\n\u001b[0m",
      "\u001b[0;31mKeyError\u001b[0m: '2020-08-01'"
     ]
    }
   ],
   "source": [
    "sentiment_df['2020-08-01'].sum()"
   ]
  },
  {
   "cell_type": "code",
   "execution_count": null,
   "metadata": {},
   "outputs": [],
   "source": []
  }
 ],
 "metadata": {
  "environment": {
   "name": "pytorch-gpu.1-4.m50",
   "type": "gcloud",
   "uri": "gcr.io/deeplearning-platform-release/pytorch-gpu.1-4:m50"
  },
  "kernelspec": {
   "display_name": "Python 3",
   "language": "python",
   "name": "python3"
  },
  "language_info": {
   "codemirror_mode": {
    "name": "ipython",
    "version": 3
   },
   "file_extension": ".py",
   "mimetype": "text/x-python",
   "name": "python",
   "nbconvert_exporter": "python",
   "pygments_lexer": "ipython3",
   "version": "3.7.6"
  }
 },
 "nbformat": 4,
 "nbformat_minor": 4
}
